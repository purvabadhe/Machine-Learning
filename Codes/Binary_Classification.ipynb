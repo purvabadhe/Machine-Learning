{
  "nbformat": 4,
  "nbformat_minor": 0,
  "metadata": {
    "colab": {
      "provenance": [],
      "authorship_tag": "ABX9TyNxZayBNZU4c5USTe6m7WBj",
      "include_colab_link": true
    },
    "kernelspec": {
      "name": "python3",
      "display_name": "Python 3"
    }
  },
  "cells": [
    {
      "cell_type": "markdown",
      "metadata": {
        "id": "view-in-github",
        "colab_type": "text"
      },
      "source": [
        "<a href=\"https://colab.research.google.com/github/purvabadhe/Machine-Learning/blob/main/Codes/Binary_Classification.ipynb\" target=\"_parent\"><img src=\"https://colab.research.google.com/assets/colab-badge.svg\" alt=\"Open In Colab\"/></a>"
      ]
    },
    {
      "cell_type": "code",
      "metadata": {
        "id": "gFpXUbMbYsL6"
      },
      "source": [
        "#Import Packages\n",
        "import numpy as np\n",
        "import cv2\n",
        "from keras.datasets import imdb\n",
        "from keras import models\n",
        "from keras import layers\n",
        "from keras import optimizers\n",
        "from keras import losses\n",
        "from keras import metrics"
      ],
      "execution_count": null,
      "outputs": []
    },
    {
      "cell_type": "code",
      "metadata": {
        "colab": {
          "base_uri": "https://localhost:8080/"
        },
        "id": "hXcSOv23Y26w",
        "outputId": "453c8680-20e1-4a7d-9ebe-cd2b2c2a9f9d"
      },
      "source": [
        "#Load the dataset\n",
        "(data_train,labels_train),(test_data,labels_test)=imdb.load_data(num_words=10000)\n",
        "# Let's quickly decode a review\n",
        "\n",
        "# step 1: load the dictionary mappings from word to integer index\n",
        "word_index=imdb.get_word_index()\n",
        "# step 2: reverse word index to map integer indexes to their respective words\n",
        "reverse_word_index=dict([(value,key) for (key,value)in word_index.items()])\n",
        "# Step 3: decode the review, mapping integer indices to words\n",
        "#\n",
        "# indices are off by 3 because 0, 1, and 2 are reserverd indices for \"padding\", \"Start of sequence\" and \"unknown\"\n",
        "decoded_review=' '.join([reverse_word_index.get(i-3,'?') for i in data_train[0]])"
      ],
      "execution_count": null,
      "outputs": [
        {
          "output_type": "stream",
          "text": [
            "Downloading data from https://storage.googleapis.com/tensorflow/tf-keras-datasets/imdb.npz\n",
            "17465344/17464789 [==============================] - 1s 0us/step\n"
          ],
          "name": "stdout"
        },
        {
          "output_type": "stream",
          "text": [
            "<string>:6: VisibleDeprecationWarning: Creating an ndarray from ragged nested sequences (which is a list-or-tuple of lists-or-tuples-or ndarrays with different lengths or shapes) is deprecated. If you meant to do this, you must specify 'dtype=object' when creating the ndarray\n",
            "/usr/local/lib/python3.7/dist-packages/tensorflow/python/keras/datasets/imdb.py:159: VisibleDeprecationWarning: Creating an ndarray from ragged nested sequences (which is a list-or-tuple of lists-or-tuples-or ndarrays with different lengths or shapes) is deprecated. If you meant to do this, you must specify 'dtype=object' when creating the ndarray\n",
            "  x_train, y_train = np.array(xs[:idx]), np.array(labels[:idx])\n"
          ],
          "name": "stderr"
        },
        {
          "output_type": "stream",
          "text": [
            "Downloading data from https://storage.googleapis.com/tensorflow/tf-keras-datasets/imdb_word_index.json\n",
            "1646592/1641221 [==============================] - 0s 0us/step\n"
          ],
          "name": "stdout"
        },
        {
          "output_type": "stream",
          "text": [
            "/usr/local/lib/python3.7/dist-packages/tensorflow/python/keras/datasets/imdb.py:160: VisibleDeprecationWarning: Creating an ndarray from ragged nested sequences (which is a list-or-tuple of lists-or-tuples-or ndarrays with different lengths or shapes) is deprecated. If you meant to do this, you must specify 'dtype=object' when creating the ndarray\n",
            "  x_test, y_test = np.array(xs[idx:]), np.array(labels[idx:])\n"
          ],
          "name": "stderr"
        }
      ]
    },
    {
      "cell_type": "code",
      "metadata": {
        "colab": {
          "base_uri": "https://localhost:8080/",
          "height": 154
        },
        "id": "nbbsW2cUOZH9",
        "outputId": "8c417786-9f70-4957-e919-c9a276249ba6"
      },
      "source": [
        "decoded_review"
      ],
      "execution_count": null,
      "outputs": [
        {
          "output_type": "execute_result",
          "data": {
            "application/vnd.google.colaboratory.intrinsic+json": {
              "type": "string"
            },
            "text/plain": [
              "\"? this film was just brilliant casting location scenery story direction everyone's really suited the part they played and you could just imagine being there robert ? is an amazing actor and now the same being director ? father came from the same scottish island as myself so i loved the fact there was a real connection with this film the witty remarks throughout the film were great it was just brilliant so much that i bought the film as soon as it was released for ? and would recommend it to everyone to watch and the fly fishing was amazing really cried at the end it was so sad and you know what they say if you cry at a film it must have been good and this definitely was also ? to the two little boy's that played the ? of norman and paul they were just brilliant children are often left out of the ? list i think because the stars that play them all grown up are such a big profile for the whole film but these children are amazing and should be praised for what they have done don't you think the whole story was so lovely because it was true and was someone's life after all that was shared with us all\""
            ]
          },
          "metadata": {
            "tags": []
          },
          "execution_count": 3
        }
      ]
    },
    {
      "cell_type": "code",
      "metadata": {
        "id": "CSKm2EafY_-F"
      },
      "source": [
        "#Preprocessing of data for neural network\n",
        "def vectorize_sequences(sequences, dimensions=10000):\n",
        "  results=np.zeros((len(sequences),dimensions))\n",
        "  for i, sequence in enumerate(sequences):\n",
        "    results[i,sequence]=1.\n",
        "  return results"
      ],
      "execution_count": null,
      "outputs": []
    },
    {
      "cell_type": "code",
      "metadata": {
        "id": "RThGEQvVZCot"
      },
      "source": [
        "#further processing of the data for consumption be the neural network\n",
        "xx_train= vectorize_sequences(data_train)\n",
        "xx_test= vectorize_sequences(test_data)\n",
        "yy_train=np.asarray(labels_train).astype('float32')\n",
        "yy_test=np.asarray(labels_test).astype('float32')"
      ],
      "execution_count": null,
      "outputs": []
    },
    {
      "cell_type": "code",
      "metadata": {
        "id": "tMvguQecZFRV"
      },
      "source": [
        "#building the neural network\n",
        "model=models.Sequential()\n",
        "model.add(layers.Dense(16,activation='relu',input_shape=(10000,)))\n",
        "model.add(layers.Dense(16,activation='relu'))\n",
        "model.add(layers.Dense(1,activation='sigmoid'))"
      ],
      "execution_count": null,
      "outputs": []
    },
    {
      "cell_type": "code",
      "metadata": {
        "id": "OeTi7T8AZH9t"
      },
      "source": [
        "#Deactivate this and activate other for experiment\n",
        "model.compile(optimizer='rmsprop',loss='binary_crossentropy', metrics=['accuracy'])"
      ],
      "execution_count": null,
      "outputs": []
    },
    {
      "cell_type": "code",
      "metadata": {
        "id": "cY8wCM_bZLI1"
      },
      "source": [
        "#alternative approach , activate after trying previous approach\n",
        "model.compile(optimizer=optimizers.RMSprop(lr=0.001),loss='binary_crossentropy',metrics=['accuracy'])"
      ],
      "execution_count": null,
      "outputs": []
    },
    {
      "cell_type": "code",
      "metadata": {
        "id": "C6I8hHulZOW_"
      },
      "source": [
        "#setting aside validation dataset\n",
        "x_val=xx_train[:10000]\n",
        "partial_x_train=xx_train[10000:]\n",
        "y_val=yy_train[:10000]\n",
        "partial_y_train=yy_train[10000:]"
      ],
      "execution_count": null,
      "outputs": []
    },
    {
      "cell_type": "code",
      "metadata": {
        "colab": {
          "base_uri": "https://localhost:8080/"
        },
        "id": "IdOEnMESZQTt",
        "outputId": "7b1089f4-7ac1-4901-c0d0-51d303fafd83"
      },
      "source": [
        "history=model.fit(partial_x_train,partial_y_train,epochs=20,batch_size=512,validation_data=(x_val,y_val))"
      ],
      "execution_count": null,
      "outputs": [
        {
          "output_type": "stream",
          "text": [
            "Epoch 1/20\n",
            "30/30 [==============================] - 2s 40ms/step - loss: 0.5736 - accuracy: 0.7261 - val_loss: 0.3943 - val_accuracy: 0.8523\n",
            "Epoch 2/20\n",
            "30/30 [==============================] - 1s 21ms/step - loss: 0.3096 - accuracy: 0.9003 - val_loss: 0.3222 - val_accuracy: 0.8752\n",
            "Epoch 3/20\n",
            "30/30 [==============================] - 1s 21ms/step - loss: 0.2228 - accuracy: 0.9288 - val_loss: 0.2795 - val_accuracy: 0.8902\n",
            "Epoch 4/20\n",
            "30/30 [==============================] - 1s 21ms/step - loss: 0.1675 - accuracy: 0.9482 - val_loss: 0.2773 - val_accuracy: 0.8888\n",
            "Epoch 5/20\n",
            "30/30 [==============================] - 1s 22ms/step - loss: 0.1285 - accuracy: 0.9668 - val_loss: 0.2879 - val_accuracy: 0.8862\n",
            "Epoch 6/20\n",
            "30/30 [==============================] - 1s 21ms/step - loss: 0.1111 - accuracy: 0.9686 - val_loss: 0.2972 - val_accuracy: 0.8850\n",
            "Epoch 7/20\n",
            "30/30 [==============================] - 1s 21ms/step - loss: 0.0821 - accuracy: 0.9793 - val_loss: 0.3200 - val_accuracy: 0.8822\n",
            "Epoch 8/20\n",
            "30/30 [==============================] - 1s 20ms/step - loss: 0.0696 - accuracy: 0.9837 - val_loss: 0.3565 - val_accuracy: 0.8746\n",
            "Epoch 9/20\n",
            "30/30 [==============================] - 1s 21ms/step - loss: 0.0608 - accuracy: 0.9853 - val_loss: 0.3784 - val_accuracy: 0.8723\n",
            "Epoch 10/20\n",
            "30/30 [==============================] - 1s 22ms/step - loss: 0.0461 - accuracy: 0.9896 - val_loss: 0.3817 - val_accuracy: 0.8782\n",
            "Epoch 11/20\n",
            "30/30 [==============================] - 1s 21ms/step - loss: 0.0338 - accuracy: 0.9951 - val_loss: 0.4874 - val_accuracy: 0.8601\n",
            "Epoch 12/20\n",
            "30/30 [==============================] - 1s 22ms/step - loss: 0.0311 - accuracy: 0.9936 - val_loss: 0.4360 - val_accuracy: 0.8747\n",
            "Epoch 13/20\n",
            "30/30 [==============================] - 1s 21ms/step - loss: 0.0217 - accuracy: 0.9975 - val_loss: 0.4662 - val_accuracy: 0.8714\n",
            "Epoch 14/20\n",
            "30/30 [==============================] - 1s 22ms/step - loss: 0.0169 - accuracy: 0.9977 - val_loss: 0.4995 - val_accuracy: 0.8695\n",
            "Epoch 15/20\n",
            "30/30 [==============================] - 1s 21ms/step - loss: 0.0123 - accuracy: 0.9992 - val_loss: 0.5262 - val_accuracy: 0.8690\n",
            "Epoch 16/20\n",
            "30/30 [==============================] - 1s 22ms/step - loss: 0.0103 - accuracy: 0.9993 - val_loss: 0.5651 - val_accuracy: 0.8679\n",
            "Epoch 17/20\n",
            "30/30 [==============================] - 1s 19ms/step - loss: 0.0085 - accuracy: 0.9993 - val_loss: 0.5941 - val_accuracy: 0.8681\n",
            "Epoch 18/20\n",
            "30/30 [==============================] - 1s 22ms/step - loss: 0.0058 - accuracy: 0.9999 - val_loss: 0.6310 - val_accuracy: 0.8669\n",
            "Epoch 19/20\n",
            "30/30 [==============================] - 1s 21ms/step - loss: 0.0063 - accuracy: 0.9992 - val_loss: 0.6552 - val_accuracy: 0.8682\n",
            "Epoch 20/20\n",
            "30/30 [==============================] - 1s 19ms/step - loss: 0.0039 - accuracy: 0.9996 - val_loss: 0.6995 - val_accuracy: 0.8664\n"
          ],
          "name": "stdout"
        }
      ]
    },
    {
      "cell_type": "code",
      "metadata": {
        "colab": {
          "base_uri": "https://localhost:8080/"
        },
        "id": "88tELQclZTe9",
        "outputId": "c9dda77b-5aab-4a3d-f1f4-d4748e85d6ea"
      },
      "source": [
        "\n",
        "print(\"Training accuracy\",history.history['accuracy'])\n",
        "print(\"Validation accuracy\", history.history['val_accuracy'])\n",
        "print(\"Training loss\", history.history['loss'])\n",
        "print(\"Validation loss\",history.history['val_loss'])"
      ],
      "execution_count": null,
      "outputs": [
        {
          "output_type": "stream",
          "text": [
            "Training accuracy [0.7976666688919067, 0.9042666554450989, 0.928600013256073, 0.9457333087921143, 0.9588666558265686, 0.9663333296775818, 0.9737333059310913, 0.980400025844574, 0.9845333099365234, 0.9876000285148621, 0.9923333525657654, 0.9931333065032959, 0.9957333207130432, 0.9958000183105469, 0.998199999332428, 0.9982666373252869, 0.9986000061035156, 0.9998666644096375, 0.9991999864578247, 0.9983999729156494]\n",
            "Validation accuracy [0.8522999882698059, 0.8751999735832214, 0.8902000188827515, 0.8888000249862671, 0.8862000107765198, 0.8849999904632568, 0.8822000026702881, 0.8745999932289124, 0.8723000288009644, 0.8781999945640564, 0.8600999712944031, 0.8747000098228455, 0.871399998664856, 0.8694999814033508, 0.8690000176429749, 0.867900013923645, 0.8680999875068665, 0.8669000267982483, 0.8682000041007996, 0.8664000034332275]\n",
            "Training loss [0.49614787101745605, 0.2945079803466797, 0.21422415971755981, 0.16777485609054565, 0.13682620227336884, 0.11240705102682114, 0.09084530919790268, 0.07419037818908691, 0.06112588942050934, 0.05066514387726784, 0.03818255662918091, 0.03255422040820122, 0.024959823116660118, 0.021460000425577164, 0.015286602079868317, 0.012894886545836926, 0.01083805039525032, 0.005699855741113424, 0.006694823037832975, 0.006926457863301039]\n",
            "Validation loss [0.39434322714805603, 0.32219475507736206, 0.2795388102531433, 0.2772727608680725, 0.28787514567375183, 0.2972480058670044, 0.3200182616710663, 0.3565497100353241, 0.3784395158290863, 0.38166654109954834, 0.48739829659461975, 0.43602466583251953, 0.46624886989593506, 0.49949008226394653, 0.526151180267334, 0.5651105642318726, 0.5941435694694519, 0.6309953331947327, 0.6552358269691467, 0.6994516849517822]\n"
          ],
          "name": "stdout"
        }
      ]
    },
    {
      "cell_type": "code",
      "metadata": {
        "colab": {
          "base_uri": "https://localhost:8080/"
        },
        "id": "GZRcNVkNZlbN",
        "outputId": "b10912fb-8932-4d8d-8525-e92511b4c19e"
      },
      "source": [
        "#test the results\n",
        "results=model.evaluate(xx_test,yy_test)\n",
        "print(results)"
      ],
      "execution_count": null,
      "outputs": [
        {
          "output_type": "stream",
          "text": [
            "782/782 [==============================] - 1s 1ms/step - loss: 0.7713 - accuracy: 0.8513\n",
            "[0.7713415026664734, 0.8513200283050537]\n"
          ],
          "name": "stdout"
        }
      ]
    },
    {
      "cell_type": "code",
      "metadata": {
        "id": "mXZeEDteaBw8"
      },
      "source": [
        "#which is loss and which is accuracy?"
      ],
      "execution_count": null,
      "outputs": []
    },
    {
      "cell_type": "code",
      "metadata": {
        "id": "dtJ2XVLIaED8",
        "colab": {
          "base_uri": "https://localhost:8080/"
        },
        "outputId": "86f35c61-b2c3-4e6e-8dc6-6deb72152e3d"
      },
      "source": [
        "#How about getting outputs from the network asking it to make predictions?\n",
        "print(model.predict(xx_test))"
      ],
      "execution_count": null,
      "outputs": [
        {
          "output_type": "stream",
          "text": [
            "[[4.7883093e-03]\n",
            " [1.0000000e+00]\n",
            " [9.1433537e-01]\n",
            " ...\n",
            " [5.9628487e-04]\n",
            " [8.9181364e-03]\n",
            " [8.6841595e-01]]\n"
          ],
          "name": "stdout"
        }
      ]
    },
    {
      "cell_type": "code",
      "metadata": {
        "id": "43ZG79gyaF6U"
      },
      "source": [
        "#retraining the network from ground up\n",
        "#activate this after previous approach\n",
        "''' model = model.Sequential()\n",
        "model.add(layers.Dense(16,activation='relu',input_shape=(10000,)))\n",
        "model.add(layers.Dense(16,activation='relu'))\n",
        "model.add(layers.Dense(1,activation='sigmoid'))\n",
        "model.compile(optimizer='rmsprop',loss='binary_crossentropy', metrics=['accuracy'])\n",
        "model.fit(xx_train,yy_train,epochs=4,batch_size=512)\n",
        "results=model.evaluate(xx_test,yy_test)"
      ],
      "execution_count": null,
      "outputs": []
    }
  ]
}